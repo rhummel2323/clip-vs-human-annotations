{
 "cells": [
  {
   "cell_type": "markdown",
   "id": "2530af0c-9d99-42ce-b2a8-0c601385d6f1",
   "metadata": {},
   "source": [
    "# Evaluating CLIP's Content Classification Against Human Annotations"
   ]
  },
  {
   "cell_type": "markdown",
   "id": "1c3335f6-8859-48d7-8cc2-f95774a2d8d5",
   "metadata": {},
   "source": [
    "### Overview\n",
    "The goal of this project is to compare human-generated annotations of Instagram images with classifications performed by CLIP in identifying content that is inappropriate for children. This project examines a small, curated sample of eight images from publicly available Instagram posts, selected as a proof of concept. Someone with access to an internal API could scale this project to a larger dataset, enabling more rigorous analysis. A key challenge arises from the fact that Instagram is a relatively safe space compared to other social media platforms, yet there are still posts that most reasonable adults would consider inappropriate for children. While hate speech and nudity are already well-regulated on the platform, this analysis intentionally excludes them to focus on content that has a substantial presence on the platform."
   ]
  },
  {
   "cell_type": "markdown",
   "id": "91a97c55-0e01-481e-8399-a5298daf9356",
   "metadata": {},
   "source": [
    "### Image Selection\n",
    "The images were chosen to represent various categories of inappropriate content, and are not a random sample. The set includes clearly inappropriate images, benign images, and those that are ambiguously appropriate."
   ]
  },
  {
   "cell_type": "markdown",
   "id": "cb75e8eb-4a7d-400f-a1f2-e2bc212ea66f",
   "metadata": {},
   "source": [
    "### Annotation Method\n",
    "Images were annotated using an ordinal rating scale with three levels: major violation, minor violation, and no violation.\n",
    "- Major Violation: The image contains content that a majority of parents would not want their children to see.\n",
    "- Minor Violation: The content is somewhat controversial—between 5% and 50% of parents might object to it, but the majority would find it acceptable.\n",
    "- No Violation: Fewer than 5% of parents would likely object to the image.\n",
    "  \n",
    "While more precise annotation scales are often useful, this three-tier system is sufficient for our project. Additionally, the term \"children\" is used broadly, some content that is inappropriate for a six-year-old may be acceptable for a teenager. More granular age-based annotations would be valuable but are beyond the scope of this study.\n",
    "\n",
    "Each image is assessed across the following content annotation dimensions, which represent key aspects of content that may impact child-appropriateness."
   ]
  },
  {
   "cell_type": "markdown",
   "id": "43bd788d-22ae-46f2-a0b1-47b688b44ce7",
   "metadata": {},
   "source": [
    "### Content Annotation Dimensions\n",
    "#### Attire\n",
    "Does the clothing worn by subjects in the image appear appropriate for a child audience? Consider whether it is overly revealing, suggestive, or intended to emphasize intimate body parts. Examples: Subjects in lingerie, see-through clothing, or revealing swimwear. This dimension does not include clothing that violates another category (e.g., a t-shirt with an offensive gesture would be categorized under Gestures, not Attire).\n",
    "#### Sexual Content\n",
    "Does the image contain explicit or suggestive body language, positioning, or actions that imply something sexual? Examples: Seductive poses, accentuating intimate body parts, passionate kissing. Scoring: A couple making out would be a major violation, whereas a couple cuddling in bed may be considered a minor violation.\n",
    "#### Gestures\n",
    "Does the image depict offensive or aggressive hand gestures? Examples: A raised middle finger, gang signs, or other explicit gestures. Scoring: Gang signs or a middle finger would be a major violation, while an aggressive \"finger gun\" gesture could be a minor violation.\n",
    "#### Substances (Alcohol, Tobacco, Drugs)\n",
    "Does the image contain alcohol, tobacco, or other substances associated with drug use? This applies whether or not the substance is actively being consumed. Scoring: Clearly identifiable alcoholic beverages, drug paraphernalia, or visible cigarette/cigar use are major violations.  Beverages with ambiguous contents (e.g., a glass that could contain alcohol) are minor violations.\n",
    "#### Violence\n",
    "Does the image contain depictions of violence, physical harm, or aggression? Examples: Weapons, fighting, or acts of torture. Consider whether a child might find the image disturbing. Scoring: The severity of violence should guide classification, graphic or intense scenes should be major violations, while less extreme depictions, like Looney Tunes, could be minor violations.\n",
    "#### Gore\n",
    "Does the image depict blood, bodily harm, or other disturbing imagery? Examples: Dead bodies, visible wounds, or dismembered body parts. Scoring: The severity should be judged based on how likely a child would be to find the image upsetting. Extreme depictions should be major violations, while less severe imagery may be minor violations.\n",
    "#### Overall Rating\n",
    "This is a holistic rating based on the combined severity of all violations in the image:\n",
    "- Inappropriate: The image contains one or more major violations and is not suitable for children.\n",
    "- Questionable: The image contains minor violations, which may make it inappropriate for younger children but acceptable for older ones.\n",
    "- Appropriate: The image has no significant violations, or at most one minor violation that does not substantially impact child-appropriateness.\n",
    "\n",
    "#### Explanation\n",
    "A brief (2–3 sentence) summary explaining the image and how it was rated. This explanation should be self-sufficient, meaning a reader should be able to understand the ratings without seeing the image.\n",
    "#### Final Note\n",
    "This list is not exhaustive. In practice, content moderation may involve additional categories and a more nuanced classification system."
   ]
  },
  {
   "cell_type": "markdown",
   "id": "3f94ab45-e55b-446f-a273-9a5c512cc95f",
   "metadata": {},
   "source": [
    "### Annotated Images"
   ]
  },
  {
   "cell_type": "code",
   "execution_count": 1,
   "id": "d079b1fa-1858-463e-8564-89d2d17e0734",
   "metadata": {},
   "outputs": [
    {
     "data": {
      "text/html": [
       "\n",
       "    <div style=\"display: flex; align-items: center; margin-bottom: 20px;\">\n",
       "        <div style=\"margin-right: 20px;\"> <img src=\"posts\\post1.jpg\" width=\"250\"> </div>\n",
       "        <div style=\"max-width: 600px; font-size: 14px;\"> <b>Human Annotations for post1.jpg:</b><br><b>Attire:</b> no violation<br><b>Sexual Content:</b> minor violation<br><b>Gestures:</b> no violation<br><b>Substances:</b> no violation<br><b>Violence:</b> no violation<br><b>Gore:</b> no violation<br><b>Overall:</b> appropriate<br><br><br><b>Explanation:</b> The image depicts a couple cuddling. I could see some people finding this image sexually suggestive, but it contains no other violations.  Overall most people will be fine with it. </div>\n",
       "    </div>\n",
       "    <hr>\n",
       "    "
      ],
      "text/plain": [
       "<IPython.core.display.HTML object>"
      ]
     },
     "metadata": {},
     "output_type": "display_data"
    },
    {
     "data": {
      "text/html": [
       "\n",
       "    <div style=\"display: flex; align-items: center; margin-bottom: 20px;\">\n",
       "        <div style=\"margin-right: 20px;\"> <img src=\"posts\\post2.jpg\" width=\"250\"> </div>\n",
       "        <div style=\"max-width: 600px; font-size: 14px;\"> <b>Human Annotations for post2.jpg:</b><br><b>Attire:</b> no violation<br><b>Sexual Content:</b> no violation<br><b>Gestures:</b> no violation<br><b>Substances:</b> no violation<br><b>Violence:</b> major violation<br><b>Gore:</b> major violation<br><b>Overall:</b> inappropriate<br><br><br><b>Explanation:</b> The image shows a cartoon of two men fighting, with one literally kicking his opponents head off.  The spine, skull, and a lot of blood are depicted. Most people would not want their childern seeing this. </div>\n",
       "    </div>\n",
       "    <hr>\n",
       "    "
      ],
      "text/plain": [
       "<IPython.core.display.HTML object>"
      ]
     },
     "metadata": {},
     "output_type": "display_data"
    },
    {
     "data": {
      "text/html": [
       "\n",
       "    <div style=\"display: flex; align-items: center; margin-bottom: 20px;\">\n",
       "        <div style=\"margin-right: 20px;\"> <img src=\"posts\\post3.jpg\" width=\"250\"> </div>\n",
       "        <div style=\"max-width: 600px; font-size: 14px;\"> <b>Human Annotations for post3.jpg:</b><br><b>Attire:</b> minor violation<br><b>Sexual Content:</b> no violation<br><b>Gestures:</b> no violation<br><b>Substances:</b> minor violation<br><b>Violence:</b> no violation<br><b>Gore:</b> no violation<br><b>Overall:</b> questionable<br><br><br><b>Explanation:</b> The image shows a couple in a sauna, holding an ambigously alcoholic beverage.  They are both in swimware, but it is not particularly revealing and there is nothing suggestive about the pose. This is probably fine for most children but I could see a number of parents objecting. </div>\n",
       "    </div>\n",
       "    <hr>\n",
       "    "
      ],
      "text/plain": [
       "<IPython.core.display.HTML object>"
      ]
     },
     "metadata": {},
     "output_type": "display_data"
    },
    {
     "data": {
      "text/html": [
       "\n",
       "    <div style=\"display: flex; align-items: center; margin-bottom: 20px;\">\n",
       "        <div style=\"margin-right: 20px;\"> <img src=\"posts\\post4.jpg\" width=\"250\"> </div>\n",
       "        <div style=\"max-width: 600px; font-size: 14px;\"> <b>Human Annotations for post4.jpg:</b><br><b>Attire:</b> no violation<br><b>Sexual Content:</b> no violation<br><b>Gestures:</b> no violation<br><b>Substances:</b> no violation<br><b>Violence:</b> no violation<br><b>Gore:</b> no violation<br><b>Overall:</b> appropriate<br><br><br><b>Explanation:</b> The image shows a man seated in car, giving a thumbs up.  There is nothing even remotely offensive in the image. </div>\n",
       "    </div>\n",
       "    <hr>\n",
       "    "
      ],
      "text/plain": [
       "<IPython.core.display.HTML object>"
      ]
     },
     "metadata": {},
     "output_type": "display_data"
    },
    {
     "data": {
      "text/html": [
       "\n",
       "    <div style=\"display: flex; align-items: center; margin-bottom: 20px;\">\n",
       "        <div style=\"margin-right: 20px;\"> <img src=\"posts\\post5.jpg\" width=\"250\"> </div>\n",
       "        <div style=\"max-width: 600px; font-size: 14px;\"> <b>Human Annotations for post5.jpg:</b><br><b>Attire:</b> major violation<br><b>Sexual Content:</b> major violation<br><b>Gestures:</b> no violation<br><b>Substances:</b> no violation<br><b>Violence:</b> no violation<br><b>Gore:</b> no violation<br><b>Overall:</b> inappropriate<br><br><br><b>Explanation:</b> The image shows a shirtless woman in a revealing bra, posing suggestively.  Her arms are held over her head, with her eyes closed and mouth slightly ajar.  Definitely not a post for kids.  </div>\n",
       "    </div>\n",
       "    <hr>\n",
       "    "
      ],
      "text/plain": [
       "<IPython.core.display.HTML object>"
      ]
     },
     "metadata": {},
     "output_type": "display_data"
    },
    {
     "data": {
      "text/html": [
       "\n",
       "    <div style=\"display: flex; align-items: center; margin-bottom: 20px;\">\n",
       "        <div style=\"margin-right: 20px;\"> <img src=\"posts\\post6.jpg\" width=\"250\"> </div>\n",
       "        <div style=\"max-width: 600px; font-size: 14px;\"> <b>Human Annotations for post6.jpg:</b><br><b>Attire:</b> minor violation<br><b>Sexual Content:</b> minor violation<br><b>Gestures:</b> no violation<br><b>Substances:</b> major violation<br><b>Violence:</b> no violation<br><b>Gore:</b> no violation<br><b>Overall:</b> inappropriate<br><br><br><b>Explanation:</b> The image is of a woman in a tights and a leotard, sitting on a chair, smoking a cigarette.  The way she is leaning and her exposed shoulders are mildly suggestive.  Most parents would not want their kids to see this. </div>\n",
       "    </div>\n",
       "    <hr>\n",
       "    "
      ],
      "text/plain": [
       "<IPython.core.display.HTML object>"
      ]
     },
     "metadata": {},
     "output_type": "display_data"
    },
    {
     "data": {
      "text/html": [
       "\n",
       "    <div style=\"display: flex; align-items: center; margin-bottom: 20px;\">\n",
       "        <div style=\"margin-right: 20px;\"> <img src=\"posts\\post7.jpg\" width=\"250\"> </div>\n",
       "        <div style=\"max-width: 600px; font-size: 14px;\"> <b>Human Annotations for post7.jpg:</b><br><b>Attire:</b> no violation<br><b>Sexual Content:</b> no violation<br><b>Gestures:</b> major violation<br><b>Substances:</b> no violation<br><b>Violence:</b> no violation<br><b>Gore:</b> no violation<br><b>Overall:</b> inappropriate<br><br><br><b>Explanation:</b> This is an image of a man flipping off the camara with both hands.  Obviously not for children. </div>\n",
       "    </div>\n",
       "    <hr>\n",
       "    "
      ],
      "text/plain": [
       "<IPython.core.display.HTML object>"
      ]
     },
     "metadata": {},
     "output_type": "display_data"
    },
    {
     "data": {
      "text/html": [
       "\n",
       "    <div style=\"display: flex; align-items: center; margin-bottom: 20px;\">\n",
       "        <div style=\"margin-right: 20px;\"> <img src=\"posts\\post8.jpg\" width=\"250\"> </div>\n",
       "        <div style=\"max-width: 600px; font-size: 14px;\"> <b>Human Annotations for post8.jpg:</b><br><b>Attire:</b> major violation<br><b>Sexual Content:</b> major violation<br><b>Gestures:</b> no violation<br><b>Substances:</b> no violation<br><b>Violence:</b> no violation<br><b>Gore:</b> no violation<br><b>Overall:</b> inappropriate<br><br><br><b>Explanation:</b> This is a cartoon of what looks like a naked elf mounting a fairy.  The image is cut off as to not show the elf's butocks, but it is still highly inappropriate for children. </div>\n",
       "    </div>\n",
       "    <hr>\n",
       "    "
      ],
      "text/plain": [
       "<IPython.core.display.HTML object>"
      ]
     },
     "metadata": {},
     "output_type": "display_data"
    }
   ],
   "source": [
    "import os\n",
    "import pandas as pd\n",
    "from PIL import Image\n",
    "from IPython.display import display, HTML\n",
    "import torch\n",
    "import clip\n",
    "\n",
    "# Set the folder path containing the images\n",
    "folder_path = \"posts\"\n",
    "\n",
    "# Load CSV annotations\n",
    "csv_path = \"human_annotations.csv\"\n",
    "df_human = pd.read_csv(csv_path)\n",
    "\n",
    "# Function to append \"violation\" to annotation values\n",
    "def format_violation(value):\n",
    "    if value.lower() in [\"no\", \"minor\", \"major\"]:\n",
    "        return f\"{value} violation\"\n",
    "    return value\n",
    "\n",
    "# Get all image filenames (assuming there are exactly 8 images)\n",
    "image_files = sorted([f for f in os.listdir(folder_path) if f.lower().endswith((\".jpg\", \".jpeg\", \".png\"))])[:8]\n",
    "\n",
    "# Loop through images and display them with annotations\n",
    "for image_file in image_files:\n",
    "    img_path = os.path.join(folder_path, image_file)\n",
    "    img = Image.open(img_path)\n",
    "    img.thumbnail((250, 250))  # Resize for display\n",
    "\n",
    "    # Extract image name without extension\n",
    "    image_name = os.path.splitext(image_file)[0]\n",
    "\n",
    "    # Find the corresponding annotation in the CSV\n",
    "    annotation_row = df_human[df_human[\"Image\"] == image_name]\n",
    "\n",
    "    # If annotation exists, format it\n",
    "    if not annotation_row.empty:\n",
    "        row = annotation_row.iloc[0]\n",
    "        annotation_text = f\"<b>Human Annotations for {image_file}:</b><br>\"\n",
    "        annotation_text += \"<br>\".join([f\"<b>{col}:</b> {format_violation(row[col])}\" for col in [\"Attire\", \"Sexual Content\", \"Gestures\", \"Substances\", \"Violence\", \"Gore\"]])\n",
    "        annotation_text += \"<br>\"  # Added extra line break here\n",
    "        annotation_text += f\"<b>Overall:</b> {format_violation(row['Overall'])}<br>\"\n",
    "        annotation_text += f\"<br><br><b>Explanation:</b> {row['Explanation']}\"\n",
    "\n",
    "    # Print text and display image\n",
    "    display(HTML(f\"\"\"\n",
    "    <div style=\"display: flex; align-items: center; margin-bottom: 20px;\">\n",
    "        <div style=\"margin-right: 20px;\"> <img src=\"{img_path}\" width=\"250\"> </div>\n",
    "        <div style=\"max-width: 600px; font-size: 14px;\"> {annotation_text} </div>\n",
    "    </div>\n",
    "    <hr>\n",
    "    \"\"\"))"
   ]
  },
  {
   "cell_type": "markdown",
   "id": "28872e7a-564b-4ef1-8adf-28b20d24895c",
   "metadata": {},
   "source": [
    "### Image Classification with CLIP\n",
    "CLIP is a publicly available neural network developed by OpenAI. According to its [GitHub Repository](https://github.com/openai/CLIP):\n",
    "> CLIP (Contrastive Language-Image Pre-Training) is a neural network trained on a variety of (image, text) pairs. It can be instructed in natural language to predict the most relevant text snippet, given an image, without directly optimizing for the task, similarly to the zero-shot capabilities of GPT-2 and 3. We found CLIP matches the performance of the original ResNet50 on ImageNet “zero-shot” without using any of the original 1.28M labeled examples, overcoming several major challenges in computer vision.\n",
    "\n",
    "To use the model, an image and a natural language prompt are provided as input, and the model returns a probability indicating how likely the described content is present in the image.\n",
    "\n",
    "One challenge was crafting prompts that accurately aligned with the annotation dimensions and were consistently detected by the model with a significant probability. For example, prompts like “bare skin” and “exposed skin” returned very low probabilities, while “skimpy clothing” was much more effective. Some dimensions required multiple prompts to improve detection. With larger datasets, prompt optimization could enhance accuracy, but for this project, the following prompts were used:\n",
    "\n",
    "- Attire – \"skimpy clothing\"\n",
    "- Sexual Content – \"sexually suggestive\", \"sexual content\"\n",
    "- Gestures – \"offensive gesture\"\n",
    "- Substances (Alcohol, Tobacco, Drugs) – \"smoking\", \"cigarette\", \"alcohol\", \"drugs\"\n",
    "- Violence – \"violence\"\n",
    "- Gore – \"gore\""
   ]
  },
  {
   "cell_type": "markdown",
   "id": "46bf90e9-fb2c-4bff-93e5-4a522e365597",
   "metadata": {},
   "source": [
    "### Mapping CLIP Probabilities to Annotation Ratings\n",
    "CLIP can detect the presence of offensive content, but unlike a human annotator, it cannot explicitly assess the degree of harm posed by that content. To compare CLIP’s predictions with human annotations, we map the highest probability among the prompts for a given dimension to a categorical rating using the following function:\n",
    "$$\n",
    "p =\n",
    "\\begin{cases} \n",
    "\\text{Major Violation}, & p \\geq 0.5 \\\\\n",
    "\\text{Minor Violation}, & 0.1 \\leq p < 0.5 \\\\\n",
    "\\text{No Violation}, & p < 0.1\n",
    "\\end{cases}\n",
    "$$"
   ]
  },
  {
   "cell_type": "markdown",
   "id": "c8821931-3238-43c8-8f89-100cb5b17042",
   "metadata": {},
   "source": [
    "### Annotations Using CLIP"
   ]
  },
  {
   "cell_type": "code",
   "execution_count": 2,
   "id": "782ddac8-0fa2-4d69-8cf1-0d163c6b2d35",
   "metadata": {},
   "outputs": [],
   "source": [
    "# Load CLIP model and preprocessing\n",
    "device = \"cuda\" if torch.cuda.is_available() else \"cpu\"\n",
    "model, preprocess = clip.load(\"ViT-B/32\", device=device)\n",
    "\n",
    "# Define classification prompts (order corresponds to category grouping)\n",
    "text_prompts = [\n",
    "    \"skimpy clothing\",         # Attire\n",
    "    \"sexually suggestive\",     # Sexual Content\n",
    "    \"sexual content\",          # Sexual Content\n",
    "    \"smoking\",                 # Substances\n",
    "    \"cigarette\",               # Substances\n",
    "    \"alcohol\",                 # Substances\n",
    "    \"drugs\",                   # Substances\n",
    "    \"offensive gesture\",       # Gestures\n",
    "    \"violence\",                # Violence\n",
    "    \"gore\"                     # Gore\n",
    "]\n",
    "text_inputs = clip.tokenize(text_prompts).to(device)\n",
    "\n",
    "# Set the folder path containing the images\n",
    "folder_path = \"posts\"\n",
    "\n",
    "# List to accumulate CLIP raw probabilities\n",
    "results_list = []\n",
    "\n",
    "# Loop through images and compute CLIP probabilities\n",
    "for image_file in sorted(os.listdir(folder_path)):\n",
    "    if image_file.lower().endswith((\".jpg\", \".jpeg\", \".png\")):\n",
    "        img_path = os.path.join(folder_path, image_file)\n",
    "        image = Image.open(img_path)\n",
    "        # Process image using CLIP's preprocessing pipeline\n",
    "        processed_image = preprocess(image).unsqueeze(0).to(device)\n",
    "\n",
    "        # Run CLIP classification\n",
    "        with torch.no_grad():\n",
    "            logits_per_image, _ = model(processed_image, text_inputs)\n",
    "            probs = logits_per_image.softmax(dim=-1).cpu().numpy()[0]\n",
    "\n",
    "        # Create a dictionary for raw probabilities for each prompt\n",
    "        prob_dict = {\"Image\": os.path.splitext(image_file)[0]}\n",
    "        for idx, prompt in enumerate(text_prompts):\n",
    "            prob_dict[prompt] = probs[idx]\n",
    "        results_list.append(prob_dict)\n",
    "\n",
    "# Create a DataFrame from the results list\n",
    "df_prob = pd.DataFrame(results_list)"
   ]
  },
  {
   "cell_type": "code",
   "execution_count": 4,
   "id": "da3861fa-a281-44c4-b09d-821243a4821b",
   "metadata": {},
   "outputs": [],
   "source": [
    "# Define a mapping function that converts a probability to a rating.\n",
    "def map_probability(prob):\n",
    "    if prob >= 0.5:\n",
    "        return \"major\"\n",
    "    elif prob >= 0.1:\n",
    "        return \"minor\"\n",
    "    else:\n",
    "        return \"no\"\n",
    "\n",
    "# Define which columns (from df_prob) correspond to each category.\n",
    "# Note: For Sexual Content we use the prompts \"sexually suggestive\" and \"sexual content\".\n",
    "# For Substances we use the prompts \"smoking\", \"cigarette\", \"alcohol\", \"drugs\".\n",
    "category_mapping = {\n",
    "    \"Attire\": [\"skimpy clothing\"],\n",
    "    \"Sexual Content\": [\"sexually suggestive\", \"sexual content\"],\n",
    "    \"Substances\": [\"smoking\", \"cigarette\", \"alcohol\", \"drugs\"],\n",
    "    \"Gestures\": [\"offensive gesture\"],\n",
    "    \"Violence\": [\"violence\"],\n",
    "    \"Gore\": [\"gore\"]\n",
    "}\n",
    "\n",
    "results_list = []\n",
    "\n",
    "# Iterate over each row in df_prob.\n",
    "for idx, row in df_prob.iterrows():\n",
    "    new_row = {\"Image\": row[\"Image\"]}\n",
    "    major_count = 0\n",
    "    minor_count = 0\n",
    "    \n",
    "    # For each category, compute the maximum probability among its associated prompts.\n",
    "    for category, prompt_cols in category_mapping.items():\n",
    "        max_prob = max(row[col] for col in prompt_cols)\n",
    "        rating = map_probability(max_prob)\n",
    "        new_row[category] = rating\n",
    "        \n",
    "        # Count the number of \"major\" and \"minor\" ratings.\n",
    "        if rating == \"major\":\n",
    "            major_count += 1\n",
    "        elif rating == \"minor\":\n",
    "            minor_count += 1\n",
    "    \n",
    "    # Apply overall rules:\n",
    "    #   one or more major violation OR 4+ minor violations -> inappropriate\n",
    "    #   2-3 minor violations -> questionable\n",
    "    #   0-1 minor violations -> appropriate\n",
    "    if major_count >= 1 or minor_count >= 4:\n",
    "        overall = \"inappropriate\"\n",
    "    elif 2 <= minor_count <= 3:\n",
    "        overall = \"questionable\"\n",
    "    else:\n",
    "        overall = \"appropriate\"\n",
    "    new_row[\"Overall\"] = overall\n",
    "    \n",
    "    results_list.append(new_row)\n",
    "\n",
    "# Create the DataFrame df_clip from the accumulated results.\n",
    "df_clip = pd.DataFrame(results_list)"
   ]
  },
  {
   "cell_type": "code",
   "execution_count": 6,
   "id": "4a8756b3-b529-45d3-83db-516fade57a20",
   "metadata": {},
   "outputs": [
    {
     "data": {
      "text/html": [
       "\n",
       "    <div style=\"display: flex; align-items: flex-start; margin-bottom: 20px;\">\n",
       "      <div style=\"margin-right: 20px;\">\n",
       "         <img src=\"posts\\post1.jpg\" width=\"250\">\n",
       "      </div>\n",
       "      <div style=\"max-width: 600px;\">\n",
       "         <table style='font-size:14px; border-collapse: collapse;'><tr><td style='padding: 4px; vertical-align: top; width: 150px;'><b>Attire</b>: no</td><td style='padding: 4px; vertical-align: top; width: 250px;'>skimpy clothing</td><td style='padding: 4px; vertical-align: top; text-align: right; width: 80px;'>0.00</td></tr><tr><td style='padding: 4px; vertical-align: top; width: 150px;'><b>Sexual Content</b>: major</td><td style='padding: 4px; vertical-align: top; width: 250px;'>sexually suggestive</td><td style='padding: 4px; vertical-align: top; text-align: right; width: 80px;'>0.01</td></tr><tr><td style='padding: 4px; vertical-align: top; width: 150px;'></td><td style='padding: 4px; vertical-align: top; width: 250px;'>sexual content</td><td style='padding: 4px; vertical-align: top; text-align: right; width: 80px;'>0.82</td></tr><tr><td style='padding: 4px; vertical-align: top; width: 150px;'><b>Substances</b>: no</td><td style='padding: 4px; vertical-align: top; width: 250px;'>smoking</td><td style='padding: 4px; vertical-align: top; text-align: right; width: 80px;'>0.00</td></tr><tr><td style='padding: 4px; vertical-align: top; width: 150px;'></td><td style='padding: 4px; vertical-align: top; width: 250px;'>cigarette</td><td style='padding: 4px; vertical-align: top; text-align: right; width: 80px;'>0.01</td></tr><tr><td style='padding: 4px; vertical-align: top; width: 150px;'></td><td style='padding: 4px; vertical-align: top; width: 250px;'>alcohol</td><td style='padding: 4px; vertical-align: top; text-align: right; width: 80px;'>0.01</td></tr><tr><td style='padding: 4px; vertical-align: top; width: 150px;'></td><td style='padding: 4px; vertical-align: top; width: 250px;'>drugs</td><td style='padding: 4px; vertical-align: top; text-align: right; width: 80px;'>0.09</td></tr><tr><td style='padding: 4px; vertical-align: top; width: 150px;'><b>Gestures</b>: no</td><td style='padding: 4px; vertical-align: top; width: 250px;'>offensive gesture</td><td style='padding: 4px; vertical-align: top; text-align: right; width: 80px;'>0.01</td></tr><tr><td style='padding: 4px; vertical-align: top; width: 150px;'><b>Violence</b>: no</td><td style='padding: 4px; vertical-align: top; width: 250px;'>violence</td><td style='padding: 4px; vertical-align: top; text-align: right; width: 80px;'>0.05</td></tr><tr><td style='padding: 4px; vertical-align: top; width: 150px;'><b>Gore</b>: no</td><td style='padding: 4px; vertical-align: top; width: 250px;'>gore</td><td style='padding: 4px; vertical-align: top; text-align: right; width: 80px;'>0.00</td></tr><tr><td style='padding: 8px; vertical-align: top; width: 150px;'><b>Overall</b>: inappropriate</td><td style='padding: 8px; vertical-align: top; width: 250px;'></td><td style='padding: 8px; vertical-align: top; width: 80px;'></td></tr></table>\n",
       "      </div>\n",
       "    </div>\n",
       "    <hr>\n",
       "    "
      ],
      "text/plain": [
       "<IPython.core.display.HTML object>"
      ]
     },
     "metadata": {},
     "output_type": "display_data"
    },
    {
     "data": {
      "text/html": [
       "\n",
       "    <div style=\"display: flex; align-items: flex-start; margin-bottom: 20px;\">\n",
       "      <div style=\"margin-right: 20px;\">\n",
       "         <img src=\"posts\\post2.jpg\" width=\"250\">\n",
       "      </div>\n",
       "      <div style=\"max-width: 600px;\">\n",
       "         <table style='font-size:14px; border-collapse: collapse;'><tr><td style='padding: 4px; vertical-align: top; width: 150px;'><b>Attire</b>: no</td><td style='padding: 4px; vertical-align: top; width: 250px;'>skimpy clothing</td><td style='padding: 4px; vertical-align: top; text-align: right; width: 80px;'>0.01</td></tr><tr><td style='padding: 4px; vertical-align: top; width: 150px;'><b>Sexual Content</b>: no</td><td style='padding: 4px; vertical-align: top; width: 250px;'>sexually suggestive</td><td style='padding: 4px; vertical-align: top; text-align: right; width: 80px;'>0.03</td></tr><tr><td style='padding: 4px; vertical-align: top; width: 150px;'></td><td style='padding: 4px; vertical-align: top; width: 250px;'>sexual content</td><td style='padding: 4px; vertical-align: top; text-align: right; width: 80px;'>0.01</td></tr><tr><td style='padding: 4px; vertical-align: top; width: 150px;'><b>Substances</b>: no</td><td style='padding: 4px; vertical-align: top; width: 250px;'>smoking</td><td style='padding: 4px; vertical-align: top; text-align: right; width: 80px;'>0.01</td></tr><tr><td style='padding: 4px; vertical-align: top; width: 150px;'></td><td style='padding: 4px; vertical-align: top; width: 250px;'>cigarette</td><td style='padding: 4px; vertical-align: top; text-align: right; width: 80px;'>0.02</td></tr><tr><td style='padding: 4px; vertical-align: top; width: 150px;'></td><td style='padding: 4px; vertical-align: top; width: 250px;'>alcohol</td><td style='padding: 4px; vertical-align: top; text-align: right; width: 80px;'>0.00</td></tr><tr><td style='padding: 4px; vertical-align: top; width: 150px;'></td><td style='padding: 4px; vertical-align: top; width: 250px;'>drugs</td><td style='padding: 4px; vertical-align: top; text-align: right; width: 80px;'>0.01</td></tr><tr><td style='padding: 4px; vertical-align: top; width: 150px;'><b>Gestures</b>: no</td><td style='padding: 4px; vertical-align: top; width: 250px;'>offensive gesture</td><td style='padding: 4px; vertical-align: top; text-align: right; width: 80px;'>0.06</td></tr><tr><td style='padding: 4px; vertical-align: top; width: 150px;'><b>Violence</b>: minor</td><td style='padding: 4px; vertical-align: top; width: 250px;'>violence</td><td style='padding: 4px; vertical-align: top; text-align: right; width: 80px;'>0.31</td></tr><tr><td style='padding: 4px; vertical-align: top; width: 150px;'><b>Gore</b>: major</td><td style='padding: 4px; vertical-align: top; width: 250px;'>gore</td><td style='padding: 4px; vertical-align: top; text-align: right; width: 80px;'>0.54</td></tr><tr><td style='padding: 8px; vertical-align: top; width: 150px;'><b>Overall</b>: inappropriate</td><td style='padding: 8px; vertical-align: top; width: 250px;'></td><td style='padding: 8px; vertical-align: top; width: 80px;'></td></tr></table>\n",
       "      </div>\n",
       "    </div>\n",
       "    <hr>\n",
       "    "
      ],
      "text/plain": [
       "<IPython.core.display.HTML object>"
      ]
     },
     "metadata": {},
     "output_type": "display_data"
    },
    {
     "data": {
      "text/html": [
       "\n",
       "    <div style=\"display: flex; align-items: flex-start; margin-bottom: 20px;\">\n",
       "      <div style=\"margin-right: 20px;\">\n",
       "         <img src=\"posts\\post3.jpg\" width=\"250\">\n",
       "      </div>\n",
       "      <div style=\"max-width: 600px;\">\n",
       "         <table style='font-size:14px; border-collapse: collapse;'><tr><td style='padding: 4px; vertical-align: top; width: 150px;'><b>Attire</b>: no</td><td style='padding: 4px; vertical-align: top; width: 250px;'>skimpy clothing</td><td style='padding: 4px; vertical-align: top; text-align: right; width: 80px;'>0.01</td></tr><tr><td style='padding: 4px; vertical-align: top; width: 150px;'><b>Sexual Content</b>: minor</td><td style='padding: 4px; vertical-align: top; width: 250px;'>sexually suggestive</td><td style='padding: 4px; vertical-align: top; text-align: right; width: 80px;'>0.04</td></tr><tr><td style='padding: 4px; vertical-align: top; width: 150px;'></td><td style='padding: 4px; vertical-align: top; width: 250px;'>sexual content</td><td style='padding: 4px; vertical-align: top; text-align: right; width: 80px;'>0.30</td></tr><tr><td style='padding: 4px; vertical-align: top; width: 150px;'><b>Substances</b>: minor</td><td style='padding: 4px; vertical-align: top; width: 250px;'>smoking</td><td style='padding: 4px; vertical-align: top; text-align: right; width: 80px;'>0.09</td></tr><tr><td style='padding: 4px; vertical-align: top; width: 150px;'></td><td style='padding: 4px; vertical-align: top; width: 250px;'>cigarette</td><td style='padding: 4px; vertical-align: top; text-align: right; width: 80px;'>0.02</td></tr><tr><td style='padding: 4px; vertical-align: top; width: 150px;'></td><td style='padding: 4px; vertical-align: top; width: 250px;'>alcohol</td><td style='padding: 4px; vertical-align: top; text-align: right; width: 80px;'>0.44</td></tr><tr><td style='padding: 4px; vertical-align: top; width: 150px;'></td><td style='padding: 4px; vertical-align: top; width: 250px;'>drugs</td><td style='padding: 4px; vertical-align: top; text-align: right; width: 80px;'>0.03</td></tr><tr><td style='padding: 4px; vertical-align: top; width: 150px;'><b>Gestures</b>: no</td><td style='padding: 4px; vertical-align: top; width: 250px;'>offensive gesture</td><td style='padding: 4px; vertical-align: top; text-align: right; width: 80px;'>0.06</td></tr><tr><td style='padding: 4px; vertical-align: top; width: 150px;'><b>Violence</b>: no</td><td style='padding: 4px; vertical-align: top; width: 250px;'>violence</td><td style='padding: 4px; vertical-align: top; text-align: right; width: 80px;'>0.02</td></tr><tr><td style='padding: 4px; vertical-align: top; width: 150px;'><b>Gore</b>: no</td><td style='padding: 4px; vertical-align: top; width: 250px;'>gore</td><td style='padding: 4px; vertical-align: top; text-align: right; width: 80px;'>0.00</td></tr><tr><td style='padding: 8px; vertical-align: top; width: 150px;'><b>Overall</b>: questionable</td><td style='padding: 8px; vertical-align: top; width: 250px;'></td><td style='padding: 8px; vertical-align: top; width: 80px;'></td></tr></table>\n",
       "      </div>\n",
       "    </div>\n",
       "    <hr>\n",
       "    "
      ],
      "text/plain": [
       "<IPython.core.display.HTML object>"
      ]
     },
     "metadata": {},
     "output_type": "display_data"
    },
    {
     "data": {
      "text/html": [
       "\n",
       "    <div style=\"display: flex; align-items: flex-start; margin-bottom: 20px;\">\n",
       "      <div style=\"margin-right: 20px;\">\n",
       "         <img src=\"posts\\post4.jpg\" width=\"250\">\n",
       "      </div>\n",
       "      <div style=\"max-width: 600px;\">\n",
       "         <table style='font-size:14px; border-collapse: collapse;'><tr><td style='padding: 4px; vertical-align: top; width: 150px;'><b>Attire</b>: no</td><td style='padding: 4px; vertical-align: top; width: 250px;'>skimpy clothing</td><td style='padding: 4px; vertical-align: top; text-align: right; width: 80px;'>0.00</td></tr><tr><td style='padding: 4px; vertical-align: top; width: 150px;'><b>Sexual Content</b>: minor</td><td style='padding: 4px; vertical-align: top; width: 250px;'>sexually suggestive</td><td style='padding: 4px; vertical-align: top; text-align: right; width: 80px;'>0.04</td></tr><tr><td style='padding: 4px; vertical-align: top; width: 150px;'></td><td style='padding: 4px; vertical-align: top; width: 250px;'>sexual content</td><td style='padding: 4px; vertical-align: top; text-align: right; width: 80px;'>0.11</td></tr><tr><td style='padding: 4px; vertical-align: top; width: 150px;'><b>Substances</b>: no</td><td style='padding: 4px; vertical-align: top; width: 250px;'>smoking</td><td style='padding: 4px; vertical-align: top; text-align: right; width: 80px;'>0.04</td></tr><tr><td style='padding: 4px; vertical-align: top; width: 150px;'></td><td style='padding: 4px; vertical-align: top; width: 250px;'>cigarette</td><td style='padding: 4px; vertical-align: top; text-align: right; width: 80px;'>0.01</td></tr><tr><td style='padding: 4px; vertical-align: top; width: 150px;'></td><td style='padding: 4px; vertical-align: top; width: 250px;'>alcohol</td><td style='padding: 4px; vertical-align: top; text-align: right; width: 80px;'>0.01</td></tr><tr><td style='padding: 4px; vertical-align: top; width: 150px;'></td><td style='padding: 4px; vertical-align: top; width: 250px;'>drugs</td><td style='padding: 4px; vertical-align: top; text-align: right; width: 80px;'>0.03</td></tr><tr><td style='padding: 4px; vertical-align: top; width: 150px;'><b>Gestures</b>: major</td><td style='padding: 4px; vertical-align: top; width: 250px;'>offensive gesture</td><td style='padding: 4px; vertical-align: top; text-align: right; width: 80px;'>0.70</td></tr><tr><td style='padding: 4px; vertical-align: top; width: 150px;'><b>Violence</b>: no</td><td style='padding: 4px; vertical-align: top; width: 250px;'>violence</td><td style='padding: 4px; vertical-align: top; text-align: right; width: 80px;'>0.02</td></tr><tr><td style='padding: 4px; vertical-align: top; width: 150px;'><b>Gore</b>: no</td><td style='padding: 4px; vertical-align: top; width: 250px;'>gore</td><td style='padding: 4px; vertical-align: top; text-align: right; width: 80px;'>0.04</td></tr><tr><td style='padding: 8px; vertical-align: top; width: 150px;'><b>Overall</b>: inappropriate</td><td style='padding: 8px; vertical-align: top; width: 250px;'></td><td style='padding: 8px; vertical-align: top; width: 80px;'></td></tr></table>\n",
       "      </div>\n",
       "    </div>\n",
       "    <hr>\n",
       "    "
      ],
      "text/plain": [
       "<IPython.core.display.HTML object>"
      ]
     },
     "metadata": {},
     "output_type": "display_data"
    },
    {
     "data": {
      "text/html": [
       "\n",
       "    <div style=\"display: flex; align-items: flex-start; margin-bottom: 20px;\">\n",
       "      <div style=\"margin-right: 20px;\">\n",
       "         <img src=\"posts\\post5.jpg\" width=\"250\">\n",
       "      </div>\n",
       "      <div style=\"max-width: 600px;\">\n",
       "         <table style='font-size:14px; border-collapse: collapse;'><tr><td style='padding: 4px; vertical-align: top; width: 150px;'><b>Attire</b>: major</td><td style='padding: 4px; vertical-align: top; width: 250px;'>skimpy clothing</td><td style='padding: 4px; vertical-align: top; text-align: right; width: 80px;'>0.82</td></tr><tr><td style='padding: 4px; vertical-align: top; width: 150px;'><b>Sexual Content</b>: no</td><td style='padding: 4px; vertical-align: top; width: 250px;'>sexually suggestive</td><td style='padding: 4px; vertical-align: top; text-align: right; width: 80px;'>0.01</td></tr><tr><td style='padding: 4px; vertical-align: top; width: 150px;'></td><td style='padding: 4px; vertical-align: top; width: 250px;'>sexual content</td><td style='padding: 4px; vertical-align: top; text-align: right; width: 80px;'>0.01</td></tr><tr><td style='padding: 4px; vertical-align: top; width: 150px;'><b>Substances</b>: minor</td><td style='padding: 4px; vertical-align: top; width: 250px;'>smoking</td><td style='padding: 4px; vertical-align: top; text-align: right; width: 80px;'>0.11</td></tr><tr><td style='padding: 4px; vertical-align: top; width: 150px;'></td><td style='padding: 4px; vertical-align: top; width: 250px;'>cigarette</td><td style='padding: 4px; vertical-align: top; text-align: right; width: 80px;'>0.03</td></tr><tr><td style='padding: 4px; vertical-align: top; width: 150px;'></td><td style='padding: 4px; vertical-align: top; width: 250px;'>alcohol</td><td style='padding: 4px; vertical-align: top; text-align: right; width: 80px;'>0.00</td></tr><tr><td style='padding: 4px; vertical-align: top; width: 150px;'></td><td style='padding: 4px; vertical-align: top; width: 250px;'>drugs</td><td style='padding: 4px; vertical-align: top; text-align: right; width: 80px;'>0.00</td></tr><tr><td style='padding: 4px; vertical-align: top; width: 150px;'><b>Gestures</b>: no</td><td style='padding: 4px; vertical-align: top; width: 250px;'>offensive gesture</td><td style='padding: 4px; vertical-align: top; text-align: right; width: 80px;'>0.02</td></tr><tr><td style='padding: 4px; vertical-align: top; width: 150px;'><b>Violence</b>: no</td><td style='padding: 4px; vertical-align: top; width: 250px;'>violence</td><td style='padding: 4px; vertical-align: top; text-align: right; width: 80px;'>0.00</td></tr><tr><td style='padding: 4px; vertical-align: top; width: 150px;'><b>Gore</b>: no</td><td style='padding: 4px; vertical-align: top; width: 250px;'>gore</td><td style='padding: 4px; vertical-align: top; text-align: right; width: 80px;'>0.00</td></tr><tr><td style='padding: 8px; vertical-align: top; width: 150px;'><b>Overall</b>: inappropriate</td><td style='padding: 8px; vertical-align: top; width: 250px;'></td><td style='padding: 8px; vertical-align: top; width: 80px;'></td></tr></table>\n",
       "      </div>\n",
       "    </div>\n",
       "    <hr>\n",
       "    "
      ],
      "text/plain": [
       "<IPython.core.display.HTML object>"
      ]
     },
     "metadata": {},
     "output_type": "display_data"
    },
    {
     "data": {
      "text/html": [
       "\n",
       "    <div style=\"display: flex; align-items: flex-start; margin-bottom: 20px;\">\n",
       "      <div style=\"margin-right: 20px;\">\n",
       "         <img src=\"posts\\post6.jpg\" width=\"250\">\n",
       "      </div>\n",
       "      <div style=\"max-width: 600px;\">\n",
       "         <table style='font-size:14px; border-collapse: collapse;'><tr><td style='padding: 4px; vertical-align: top; width: 150px;'><b>Attire</b>: minor</td><td style='padding: 4px; vertical-align: top; width: 250px;'>skimpy clothing</td><td style='padding: 4px; vertical-align: top; text-align: right; width: 80px;'>0.22</td></tr><tr><td style='padding: 4px; vertical-align: top; width: 150px;'><b>Sexual Content</b>: minor</td><td style='padding: 4px; vertical-align: top; width: 250px;'>sexually suggestive</td><td style='padding: 4px; vertical-align: top; text-align: right; width: 80px;'>0.19</td></tr><tr><td style='padding: 4px; vertical-align: top; width: 150px;'></td><td style='padding: 4px; vertical-align: top; width: 250px;'>sexual content</td><td style='padding: 4px; vertical-align: top; text-align: right; width: 80px;'>0.01</td></tr><tr><td style='padding: 4px; vertical-align: top; width: 150px;'><b>Substances</b>: minor</td><td style='padding: 4px; vertical-align: top; width: 250px;'>smoking</td><td style='padding: 4px; vertical-align: top; text-align: right; width: 80px;'>0.23</td></tr><tr><td style='padding: 4px; vertical-align: top; width: 150px;'></td><td style='padding: 4px; vertical-align: top; width: 250px;'>cigarette</td><td style='padding: 4px; vertical-align: top; text-align: right; width: 80px;'>0.31</td></tr><tr><td style='padding: 4px; vertical-align: top; width: 150px;'></td><td style='padding: 4px; vertical-align: top; width: 250px;'>alcohol</td><td style='padding: 4px; vertical-align: top; text-align: right; width: 80px;'>0.01</td></tr><tr><td style='padding: 4px; vertical-align: top; width: 150px;'></td><td style='padding: 4px; vertical-align: top; width: 250px;'>drugs</td><td style='padding: 4px; vertical-align: top; text-align: right; width: 80px;'>0.01</td></tr><tr><td style='padding: 4px; vertical-align: top; width: 150px;'><b>Gestures</b>: no</td><td style='padding: 4px; vertical-align: top; width: 250px;'>offensive gesture</td><td style='padding: 4px; vertical-align: top; text-align: right; width: 80px;'>0.01</td></tr><tr><td style='padding: 4px; vertical-align: top; width: 150px;'><b>Violence</b>: no</td><td style='padding: 4px; vertical-align: top; width: 250px;'>violence</td><td style='padding: 4px; vertical-align: top; text-align: right; width: 80px;'>0.00</td></tr><tr><td style='padding: 4px; vertical-align: top; width: 150px;'><b>Gore</b>: no</td><td style='padding: 4px; vertical-align: top; width: 250px;'>gore</td><td style='padding: 4px; vertical-align: top; text-align: right; width: 80px;'>0.01</td></tr><tr><td style='padding: 8px; vertical-align: top; width: 150px;'><b>Overall</b>: questionable</td><td style='padding: 8px; vertical-align: top; width: 250px;'></td><td style='padding: 8px; vertical-align: top; width: 80px;'></td></tr></table>\n",
       "      </div>\n",
       "    </div>\n",
       "    <hr>\n",
       "    "
      ],
      "text/plain": [
       "<IPython.core.display.HTML object>"
      ]
     },
     "metadata": {},
     "output_type": "display_data"
    },
    {
     "data": {
      "text/html": [
       "\n",
       "    <div style=\"display: flex; align-items: flex-start; margin-bottom: 20px;\">\n",
       "      <div style=\"margin-right: 20px;\">\n",
       "         <img src=\"posts\\post7.jpg\" width=\"250\">\n",
       "      </div>\n",
       "      <div style=\"max-width: 600px;\">\n",
       "         <table style='font-size:14px; border-collapse: collapse;'><tr><td style='padding: 4px; vertical-align: top; width: 150px;'><b>Attire</b>: no</td><td style='padding: 4px; vertical-align: top; width: 250px;'>skimpy clothing</td><td style='padding: 4px; vertical-align: top; text-align: right; width: 80px;'>0.00</td></tr><tr><td style='padding: 4px; vertical-align: top; width: 150px;'><b>Sexual Content</b>: no</td><td style='padding: 4px; vertical-align: top; width: 250px;'>sexually suggestive</td><td style='padding: 4px; vertical-align: top; text-align: right; width: 80px;'>0.04</td></tr><tr><td style='padding: 4px; vertical-align: top; width: 150px;'></td><td style='padding: 4px; vertical-align: top; width: 250px;'>sexual content</td><td style='padding: 4px; vertical-align: top; text-align: right; width: 80px;'>0.00</td></tr><tr><td style='padding: 4px; vertical-align: top; width: 150px;'><b>Substances</b>: no</td><td style='padding: 4px; vertical-align: top; width: 250px;'>smoking</td><td style='padding: 4px; vertical-align: top; text-align: right; width: 80px;'>0.04</td></tr><tr><td style='padding: 4px; vertical-align: top; width: 150px;'></td><td style='padding: 4px; vertical-align: top; width: 250px;'>cigarette</td><td style='padding: 4px; vertical-align: top; text-align: right; width: 80px;'>0.05</td></tr><tr><td style='padding: 4px; vertical-align: top; width: 150px;'></td><td style='padding: 4px; vertical-align: top; width: 250px;'>alcohol</td><td style='padding: 4px; vertical-align: top; text-align: right; width: 80px;'>0.00</td></tr><tr><td style='padding: 4px; vertical-align: top; width: 150px;'></td><td style='padding: 4px; vertical-align: top; width: 250px;'>drugs</td><td style='padding: 4px; vertical-align: top; text-align: right; width: 80px;'>0.03</td></tr><tr><td style='padding: 4px; vertical-align: top; width: 150px;'><b>Gestures</b>: major</td><td style='padding: 4px; vertical-align: top; width: 250px;'>offensive gesture</td><td style='padding: 4px; vertical-align: top; text-align: right; width: 80px;'>0.82</td></tr><tr><td style='padding: 4px; vertical-align: top; width: 150px;'><b>Violence</b>: no</td><td style='padding: 4px; vertical-align: top; width: 250px;'>violence</td><td style='padding: 4px; vertical-align: top; text-align: right; width: 80px;'>0.01</td></tr><tr><td style='padding: 4px; vertical-align: top; width: 150px;'><b>Gore</b>: no</td><td style='padding: 4px; vertical-align: top; width: 250px;'>gore</td><td style='padding: 4px; vertical-align: top; text-align: right; width: 80px;'>0.01</td></tr><tr><td style='padding: 8px; vertical-align: top; width: 150px;'><b>Overall</b>: inappropriate</td><td style='padding: 8px; vertical-align: top; width: 250px;'></td><td style='padding: 8px; vertical-align: top; width: 80px;'></td></tr></table>\n",
       "      </div>\n",
       "    </div>\n",
       "    <hr>\n",
       "    "
      ],
      "text/plain": [
       "<IPython.core.display.HTML object>"
      ]
     },
     "metadata": {},
     "output_type": "display_data"
    },
    {
     "data": {
      "text/html": [
       "\n",
       "    <div style=\"display: flex; align-items: flex-start; margin-bottom: 20px;\">\n",
       "      <div style=\"margin-right: 20px;\">\n",
       "         <img src=\"posts\\post8.jpg\" width=\"250\">\n",
       "      </div>\n",
       "      <div style=\"max-width: 600px;\">\n",
       "         <table style='font-size:14px; border-collapse: collapse;'><tr><td style='padding: 4px; vertical-align: top; width: 150px;'><b>Attire</b>: no</td><td style='padding: 4px; vertical-align: top; width: 250px;'>skimpy clothing</td><td style='padding: 4px; vertical-align: top; text-align: right; width: 80px;'>0.00</td></tr><tr><td style='padding: 4px; vertical-align: top; width: 150px;'><b>Sexual Content</b>: major</td><td style='padding: 4px; vertical-align: top; width: 250px;'>sexually suggestive</td><td style='padding: 4px; vertical-align: top; text-align: right; width: 80px;'>0.66</td></tr><tr><td style='padding: 4px; vertical-align: top; width: 150px;'></td><td style='padding: 4px; vertical-align: top; width: 250px;'>sexual content</td><td style='padding: 4px; vertical-align: top; text-align: right; width: 80px;'>0.29</td></tr><tr><td style='padding: 4px; vertical-align: top; width: 150px;'><b>Substances</b>: no</td><td style='padding: 4px; vertical-align: top; width: 250px;'>smoking</td><td style='padding: 4px; vertical-align: top; text-align: right; width: 80px;'>0.00</td></tr><tr><td style='padding: 4px; vertical-align: top; width: 150px;'></td><td style='padding: 4px; vertical-align: top; width: 250px;'>cigarette</td><td style='padding: 4px; vertical-align: top; text-align: right; width: 80px;'>0.00</td></tr><tr><td style='padding: 4px; vertical-align: top; width: 150px;'></td><td style='padding: 4px; vertical-align: top; width: 250px;'>alcohol</td><td style='padding: 4px; vertical-align: top; text-align: right; width: 80px;'>0.00</td></tr><tr><td style='padding: 4px; vertical-align: top; width: 150px;'></td><td style='padding: 4px; vertical-align: top; width: 250px;'>drugs</td><td style='padding: 4px; vertical-align: top; text-align: right; width: 80px;'>0.00</td></tr><tr><td style='padding: 4px; vertical-align: top; width: 150px;'><b>Gestures</b>: no</td><td style='padding: 4px; vertical-align: top; width: 250px;'>offensive gesture</td><td style='padding: 4px; vertical-align: top; text-align: right; width: 80px;'>0.00</td></tr><tr><td style='padding: 4px; vertical-align: top; width: 150px;'><b>Violence</b>: no</td><td style='padding: 4px; vertical-align: top; width: 250px;'>violence</td><td style='padding: 4px; vertical-align: top; text-align: right; width: 80px;'>0.02</td></tr><tr><td style='padding: 4px; vertical-align: top; width: 150px;'><b>Gore</b>: no</td><td style='padding: 4px; vertical-align: top; width: 250px;'>gore</td><td style='padding: 4px; vertical-align: top; text-align: right; width: 80px;'>0.02</td></tr><tr><td style='padding: 8px; vertical-align: top; width: 150px;'><b>Overall</b>: inappropriate</td><td style='padding: 8px; vertical-align: top; width: 250px;'></td><td style='padding: 8px; vertical-align: top; width: 80px;'></td></tr></table>\n",
       "      </div>\n",
       "    </div>\n",
       "    <hr>\n",
       "    "
      ],
      "text/plain": [
       "<IPython.core.display.HTML object>"
      ]
     },
     "metadata": {},
     "output_type": "display_data"
    }
   ],
   "source": [
    "# text_prompts and categories are defined as follows:\n",
    "text_prompts = [\n",
    "    \"skimpy clothing\",         # Attire\n",
    "    \"sexually suggestive\",     # Sexual Content\n",
    "    \"sexual content\",          # Sexual Content\n",
    "    \"smoking\",                 # Substances\n",
    "    \"cigarette\",               # Substances\n",
    "    \"alcohol\",                 # Substances\n",
    "    \"drugs\",                   # Substances\n",
    "    \"offensive gesture\",       # Gestures\n",
    "    \"violence\",                # Violence\n",
    "    \"gore\"                     # Gore\n",
    "]\n",
    "\n",
    "categories = {\n",
    "    \"Attire\": [0],\n",
    "    \"Sexual Content\": [1, 2],\n",
    "    \"Substances\": [3, 4, 5, 6],\n",
    "    \"Gestures\": [7],\n",
    "    \"Violence\": [8],\n",
    "    \"Gore\": [9]\n",
    "}\n",
    "\n",
    "# Set the folder path containing the images\n",
    "folder_path = \"posts\"\n",
    "\n",
    "# Define fixed column widths for the HTML table\n",
    "col1_width = \"150px\"  # for dimension and rating\n",
    "col2_width = \"250px\"  # for prompt\n",
    "col3_width = \"80px\"   # for probability\n",
    "\n",
    "# Loop through each row in df_clip and display annotations alongside raw probabilities from df_prob\n",
    "for idx, clip_row in df_clip.iterrows():\n",
    "    image_name = clip_row[\"Image\"]\n",
    "    \n",
    "    # Construct full image path by checking common extensions\n",
    "    found_image = None\n",
    "    for ext in [\".jpg\", \".jpeg\", \".png\"]:\n",
    "        candidate = os.path.join(folder_path, f\"{image_name}{ext}\")\n",
    "        if os.path.exists(candidate):\n",
    "            found_image = candidate\n",
    "            break\n",
    "    if found_image is None:\n",
    "        continue\n",
    "\n",
    "    # Retrieve corresponding row from df_prob\n",
    "    prob_df = df_prob[df_prob[\"Image\"] == image_name]\n",
    "    if prob_df.empty:\n",
    "        continue\n",
    "    prob_row = prob_df.iloc[0]\n",
    "    \n",
    "    # Build the HTML table for annotations\n",
    "    table_html = \"<table style='font-size:14px; border-collapse: collapse;'>\"\n",
    "    # For each category, add rows for each prompt in that category.\n",
    "    for category, indices in categories.items():\n",
    "        cat_rating = clip_row[category]  # the CLIP rating (e.g., major, minor, no)\n",
    "        for j, idx_val in enumerate(indices):\n",
    "            prompt_text = text_prompts[idx_val]\n",
    "            raw_prob = prob_row[prompt_text]\n",
    "            if j == 0:\n",
    "                # For the first prompt, show the category and its rating in the first column.\n",
    "                table_html += (\n",
    "                    \"<tr>\"\n",
    "                    f\"<td style='padding: 4px; vertical-align: top; width: {col1_width};'><b>{category}</b>: {cat_rating}</td>\"\n",
    "                    f\"<td style='padding: 4px; vertical-align: top; width: {col2_width};'>{prompt_text}</td>\"\n",
    "                    f\"<td style='padding: 4px; vertical-align: top; text-align: right; width: {col3_width};'>{raw_prob:0.2f}</td>\"\n",
    "                    \"</tr>\"\n",
    "                )\n",
    "            else:\n",
    "                # For subsequent prompts, leave the first cell empty.\n",
    "                table_html += (\n",
    "                    \"<tr>\"\n",
    "                    f\"<td style='padding: 4px; vertical-align: top; width: {col1_width};'></td>\"\n",
    "                    f\"<td style='padding: 4px; vertical-align: top; width: {col2_width};'>{prompt_text}</td>\"\n",
    "                    f\"<td style='padding: 4px; vertical-align: top; text-align: right; width: {col3_width};'>{raw_prob:0.2f}</td>\"\n",
    "                    \"</tr>\"\n",
    "                )\n",
    "    # Append overall rating on its own row, placing it in the first column only.\n",
    "    table_html += (\n",
    "        f\"<tr>\"\n",
    "        f\"<td style='padding: 8px; vertical-align: top; width: {col1_width};'><b>Overall</b>: {clip_row['Overall']}</td>\"\n",
    "        f\"<td style='padding: 8px; vertical-align: top; width: {col2_width};'></td>\"\n",
    "        f\"<td style='padding: 8px; vertical-align: top; width: {col3_width};'></td>\"\n",
    "        f\"</tr>\"\n",
    "    )\n",
    "    table_html += \"</table>\"\n",
    "    \n",
    "    # Create the complete HTML block with the image on the left and the table on the right.\n",
    "    html_block = f\"\"\"\n",
    "    <div style=\"display: flex; align-items: flex-start; margin-bottom: 20px;\">\n",
    "      <div style=\"margin-right: 20px;\">\n",
    "         <img src=\"{found_image}\" width=\"250\">\n",
    "      </div>\n",
    "      <div style=\"max-width: 600px;\">\n",
    "         {table_html}\n",
    "      </div>\n",
    "    </div>\n",
    "    <hr>\n",
    "    \"\"\"\n",
    "    \n",
    "    display(HTML(html_block))"
   ]
  },
  {
   "cell_type": "markdown",
   "id": "475b91ae-d4e4-442f-8528-c828210e5408",
   "metadata": {},
   "source": [
    "### CLIP Results\n",
    "The probabilities given by CLIP vary in quality, producing good annontations for certain images, but awful ones for others.  Lets see how it compares to the human annotations.  The table below shows the number of dimensions that didn't match for each images, and if the overall ratings matched."
   ]
  },
  {
   "cell_type": "code",
   "execution_count": 7,
   "id": "fd7f21e1-52f5-4775-ba9d-ce9d8ab3695e",
   "metadata": {},
   "outputs": [],
   "source": [
    "# List of dimension columns to compare\n",
    "dimensions_list = [\"Attire\", \"Sexual Content\", \"Gestures\", \"Substances\", \"Violence\", \"Gore\"]\n",
    "\n",
    "results = []\n",
    "\n",
    "# Loop through each row in the human annotation DataFrame\n",
    "for idx, human_row in df_human.iterrows():\n",
    "    image_name = str(human_row[\"Image\"]).strip()  # e.g., \"post1\"\n",
    "    \n",
    "    # Find the corresponding row in df_clip\n",
    "    clip_matches = df_clip[df_clip[\"Image\"] == image_name]\n",
    "    if clip_matches.empty:\n",
    "        continue\n",
    "    clip_row = clip_matches.iloc[0]\n",
    "    \n",
    "    # Count the number of dimensions that do not match\n",
    "    discrepancy_count = 0\n",
    "    for dim in dimensions_list:\n",
    "        human_val = str(human_row[dim]).strip().lower()\n",
    "        clip_val = str(clip_row[dim]).strip().lower()\n",
    "        if human_val != clip_val:\n",
    "            discrepancy_count += 1\n",
    "    \n",
    "    # Compare the overall rating (case-insensitive)\n",
    "    overall_match = (str(human_row[\"Overall\"]).strip().lower() == str(clip_row[\"Overall\"]).strip().lower())\n",
    "    \n",
    "    results.append({\n",
    "        \"Image\": image_name,\n",
    "        \"dimensions\": discrepancy_count,\n",
    "        \"overall\": overall_match\n",
    "    })\n",
    "\n",
    "# Create a DataFrame from the results and display it\n",
    "df_diff = pd.DataFrame(results)"
   ]
  },
  {
   "cell_type": "code",
   "execution_count": 8,
   "id": "16135a71-c4e0-43f6-bbd9-b4d8e99bea33",
   "metadata": {},
   "outputs": [
    {
     "data": {
      "text/html": [
       "<table border=\"1\" class=\"dataframe\">\n",
       "  <thead>\n",
       "    <tr style=\"text-align: right;\">\n",
       "      <th>Image</th>\n",
       "      <th>dimensions</th>\n",
       "      <th>overall</th>\n",
       "    </tr>\n",
       "  </thead>\n",
       "  <tbody>\n",
       "    <tr>\n",
       "      <td>post1</td>\n",
       "      <td>1</td>\n",
       "      <td>False</td>\n",
       "    </tr>\n",
       "    <tr>\n",
       "      <td>post2</td>\n",
       "      <td>1</td>\n",
       "      <td>True</td>\n",
       "    </tr>\n",
       "    <tr>\n",
       "      <td>post3</td>\n",
       "      <td>2</td>\n",
       "      <td>True</td>\n",
       "    </tr>\n",
       "    <tr>\n",
       "      <td>post4</td>\n",
       "      <td>2</td>\n",
       "      <td>False</td>\n",
       "    </tr>\n",
       "    <tr>\n",
       "      <td>post5</td>\n",
       "      <td>2</td>\n",
       "      <td>True</td>\n",
       "    </tr>\n",
       "    <tr>\n",
       "      <td>post6</td>\n",
       "      <td>1</td>\n",
       "      <td>False</td>\n",
       "    </tr>\n",
       "    <tr>\n",
       "      <td>post7</td>\n",
       "      <td>0</td>\n",
       "      <td>True</td>\n",
       "    </tr>\n",
       "    <tr>\n",
       "      <td>post8</td>\n",
       "      <td>1</td>\n",
       "      <td>True</td>\n",
       "    </tr>\n",
       "  </tbody>\n",
       "</table>"
      ],
      "text/plain": [
       "<IPython.core.display.HTML object>"
      ]
     },
     "execution_count": 8,
     "metadata": {},
     "output_type": "execute_result"
    }
   ],
   "source": [
    "HTML(df_diff.to_html(index=False))"
   ]
  },
  {
   "cell_type": "markdown",
   "id": "df909826-f431-4b88-9220-21b2786cb555",
   "metadata": {},
   "source": [
    "### Conclusion\n",
    "Although CLIP, when properly prompted, performs reasonably well at classifying the labels in this project, it still produces numerous errors even on a small sample. In its current form, the model is not suitable for unsupervised classification of posts, as even a single inappropriate post can significantly damage a brand’s reputation and negatively impact children. While the model shows promise, with many classifications aligning with human annotators, it would require significant fine-tuning on high-quality data to be practically useful. Moreover, perceptions of what is inappropriate are inherently subjective, evolving over time and varying by demographic. A robust team of human annotators is essential not only to capture these shifting standards and analyze trends but also to generate the reliable training data necessary for future models. Human annotation will thus remain a vital component of content moderation, ensuring safe spaces while enabling models to eventually operate with reduced oversight."
   ]
  },
  {
   "cell_type": "code",
   "execution_count": null,
   "id": "f5c917e4-30f7-481d-8021-e263403547cd",
   "metadata": {},
   "outputs": [],
   "source": []
  }
 ],
 "metadata": {
  "kernelspec": {
   "display_name": "Python 3 (ipykernel)",
   "language": "python",
   "name": "python3"
  },
  "language_info": {
   "codemirror_mode": {
    "name": "ipython",
    "version": 3
   },
   "file_extension": ".py",
   "mimetype": "text/x-python",
   "name": "python",
   "nbconvert_exporter": "python",
   "pygments_lexer": "ipython3",
   "version": "3.12.9"
  }
 },
 "nbformat": 4,
 "nbformat_minor": 5
}
